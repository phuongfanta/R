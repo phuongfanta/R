{
  "nbformat": 4,
  "nbformat_minor": 0,
  "metadata": {
    "kernelspec": {
      "display_name": "R",
      "language": "R",
      "name": "ir"
    },
    "language_info": {
      "codemirror_mode": "r",
      "file_extension": ".r",
      "mimetype": "text/x-r-source",
      "name": "R",
      "pygments_lexer": "r",
      "version": "3.3.3"
    },
    "colab": {
      "name": "demo_First_R.ipynb",
      "provenance": [],
      "include_colab_link": true
    }
  },
  "cells": [
    {
      "cell_type": "markdown",
      "metadata": {
        "id": "view-in-github",
        "colab_type": "text"
      },
      "source": [
        "<a href=\"https://colab.research.google.com/github/phuongfanta/R/blob/master/demo_First_R.ipynb\" target=\"_parent\"><img src=\"https://colab.research.google.com/assets/colab-badge.svg\" alt=\"Open In Colab\"/></a>"
      ]
    },
    {
      "cell_type": "code",
      "metadata": {
        "id": "qktt-F2UWU7c",
        "colab_type": "code",
        "colab": {
          "base_uri": "https://localhost:8080/",
          "height": 34
        },
        "outputId": "44979203-be90-4ab0-862f-1a9692cc94bb"
      },
      "source": [
        "print(\"Hello and welcom R Programming Language\")"
      ],
      "execution_count": 8,
      "outputs": [
        {
          "output_type": "stream",
          "text": [
            "[1] \"Hello and welcom R Programming Language\"\n"
          ],
          "name": "stdout"
        }
      ]
    },
    {
      "cell_type": "code",
      "metadata": {
        "id": "0xxX05TXWU7i",
        "colab_type": "code",
        "colab": {}
      },
      "source": [
        "?reserved"
      ],
      "execution_count": 9,
      "outputs": []
    },
    {
      "cell_type": "code",
      "metadata": {
        "id": "qMWfXsbVWU7l",
        "colab_type": "code",
        "colab": {
          "base_uri": "https://localhost:8080/",
          "height": 34
        },
        "outputId": "0e86f857-f4c6-4ba5-c007-7822f2bd38b9"
      },
      "source": [
        "name <- readline(prompt = \"What's your name?\")"
      ],
      "execution_count": 10,
      "outputs": [
        {
          "output_type": "stream",
          "text": [
            "What's your name?Phuong\n"
          ],
          "name": "stdout"
        }
      ]
    },
    {
      "cell_type": "code",
      "metadata": {
        "id": "es47dgUmWU7o",
        "colab_type": "code",
        "colab": {
          "base_uri": "https://localhost:8080/",
          "height": 68
        },
        "outputId": "090cb900-c378-40bf-cd8f-2db90892870d"
      },
      "source": [
        "age <- as.integer(readline(prompt = \"How old are you?\"))"
      ],
      "execution_count": 11,
      "outputs": [
        {
          "output_type": "stream",
          "text": [
            "How old are you?yes\n"
          ],
          "name": "stdout"
        },
        {
          "output_type": "stream",
          "text": [
            "Warning message in eval(expr, envir, enclos):\n",
            "“NAs introduced by coercion”\n"
          ],
          "name": "stderr"
        }
      ]
    },
    {
      "cell_type": "code",
      "metadata": {
        "id": "N2tozk32WU7q",
        "colab_type": "code",
        "colab": {
          "base_uri": "https://localhost:8080/",
          "height": 34
        },
        "outputId": "406b282a-aa26-43a3-f7b3-647e37939c11"
      },
      "source": [
        "print(paste(\"Hello\" , name))"
      ],
      "execution_count": 12,
      "outputs": [
        {
          "output_type": "stream",
          "text": [
            "[1] \"Hello Phuong\"\n"
          ],
          "name": "stdout"
        }
      ]
    },
    {
      "cell_type": "code",
      "metadata": {
        "id": "ib0PZdRvWU7t",
        "colab_type": "code",
        "colab": {
          "base_uri": "https://localhost:8080/",
          "height": 34
        },
        "outputId": "58dc4963-416c-4423-c8cd-dd44f64eae80"
      },
      "source": [
        "cat(\"hello\", name)"
      ],
      "execution_count": 13,
      "outputs": [
        {
          "output_type": "stream",
          "text": [
            "hello Phuong"
          ],
          "name": "stdout"
        }
      ]
    },
    {
      "cell_type": "code",
      "metadata": {
        "id": "wX5Y0dTNWU7w",
        "colab_type": "code",
        "colab": {}
      },
      "source": [
        "# Ex1: "
      ],
      "execution_count": 14,
      "outputs": []
    },
    {
      "cell_type": "markdown",
      "metadata": {
        "id": "3KkCxqxNZhdE",
        "colab_type": "text"
      },
      "source": [
        "# Bài tập ôn buổi 1\n",
        "#### Viết chương trình cho phép người dùng:\n",
        "- Nhập vào một chuỗi. In chuỗi.\n",
        "- Nhập vào một ký tự. In ký tự.\n",
        "- Tạo chuỗi mới từ chuỗi đã có trong đó tất cả các ký tự đã nhập ở trên đều được in hoa\n",
        "- Nhập vào một chuỗi. In chuỗi\n",
        "- Tách chuỗi đã nhập thành danh sách các phần tử.\n",
        "- Tìm xem chuỗi vừa nhập có là phần tử nào trong danh sách phần tử trên hay không? Nêu tìm thấy thì thông báo là \"Found!!!\" ngược lại thì thông báo là \"Not found!!!\"\n"
      ]
    },
    {
      "cell_type": "code",
      "metadata": {
        "id": "HbuoLSIFWZ5W",
        "colab_type": "code",
        "colab": {
          "base_uri": "https://localhost:8080/",
          "height": 34
        },
        "outputId": "16f574dd-eeef-483f-c1df-84e80d4044e7"
      },
      "source": [
        "content <- readline(prompt = \"Input content:\")"
      ],
      "execution_count": 15,
      "outputs": [
        {
          "output_type": "stream",
          "text": [
            "Input content:hello\n"
          ],
          "name": "stdout"
        }
      ]
    },
    {
      "cell_type": "code",
      "metadata": {
        "id": "fuPZcI1-We0V",
        "colab_type": "code",
        "colab": {
          "base_uri": "https://localhost:8080/",
          "height": 34
        },
        "outputId": "cd9fa7d3-81d5-42de-9458-26def5db9689"
      },
      "source": [
        "char_find <- readline(prompt = \"Input character:\")"
      ],
      "execution_count": 16,
      "outputs": [
        {
          "output_type": "stream",
          "text": [
            "Input character:a\n"
          ],
          "name": "stdout"
        }
      ]
    },
    {
      "cell_type": "code",
      "metadata": {
        "id": "j0GVHDrTWraR",
        "colab_type": "code",
        "colab": {}
      },
      "source": [
        "# Upper this char"
      ],
      "execution_count": 17,
      "outputs": []
    },
    {
      "cell_type": "code",
      "metadata": {
        "id": "l6e_93ibWx0c",
        "colab_type": "code",
        "colab": {}
      },
      "source": [
        "new_content = chartr(old = char_find, new = toupper(char_find), content)"
      ],
      "execution_count": 18,
      "outputs": []
    },
    {
      "cell_type": "code",
      "metadata": {
        "id": "wXuTJdvLXArO",
        "colab_type": "code",
        "colab": {
          "base_uri": "https://localhost:8080/",
          "height": 34
        },
        "outputId": "42ab9398-7fc5-4763-c3e2-60caa9a8800e"
      },
      "source": [
        "new_content"
      ],
      "execution_count": 19,
      "outputs": [
        {
          "output_type": "display_data",
          "data": {
            "text/plain": [
              "[1] \"hello\""
            ],
            "text/latex": "'hello'",
            "text/markdown": "'hello'",
            "text/html": [
              "'hello'"
            ]
          },
          "metadata": {
            "tags": []
          }
        }
      ]
    },
    {
      "cell_type": "code",
      "metadata": {
        "id": "fDsUpeg6XIXT",
        "colab_type": "code",
        "colab": {
          "base_uri": "https://localhost:8080/",
          "height": 34
        },
        "outputId": "896b713d-737f-4785-9dad-2ccc5adc82cd"
      },
      "source": [
        "string_find <- readline(prompt = \"Input string:\")"
      ],
      "execution_count": 20,
      "outputs": [
        {
          "output_type": "stream",
          "text": [
            "Input string:a\n"
          ],
          "name": "stdout"
        }
      ]
    },
    {
      "cell_type": "code",
      "metadata": {
        "id": "TPWN7SOaXQZr",
        "colab_type": "code",
        "colab": {
          "base_uri": "https://localhost:8080/",
          "height": 34
        },
        "outputId": "7e7e25d5-7c4c-4ad2-da16-a7977efad80f"
      },
      "source": [
        "if (string_find %in% unlist(strsplit(content, \" \"))){\n",
        "  print(\"Found!!!\")\n",
        "} else{\n",
        "  print(\"Not found!!!\")\n",
        "}"
      ],
      "execution_count": 21,
      "outputs": [
        {
          "output_type": "stream",
          "text": [
            "[1] \"Not found!!!\"\n"
          ],
          "name": "stdout"
        }
      ]
    },
    {
      "cell_type": "markdown",
      "metadata": {
        "id": "aBM1Gu-X1zfm",
        "colab_type": "text"
      },
      "source": [
        "# Đọc và ghi file với colab"
      ]
    },
    {
      "cell_type": "code",
      "metadata": {
        "id": "gOn88_Csq5Y-",
        "colab_type": "code",
        "colab": {
          "base_uri": "https://localhost:8080/",
          "height": 34
        },
        "outputId": "76133234-ab6a-4e4b-ded0-4336d46ee8e0"
      },
      "source": [
        "system(\"ls\", TRUE)"
      ],
      "execution_count": 22,
      "outputs": [
        {
          "output_type": "display_data",
          "data": {
            "text/plain": [
              "[1] \"ob_sub.csv\"  \"sample_data\""
            ],
            "text/latex": "\\begin{enumerate*}\n\\item 'ob\\_sub.csv'\n\\item 'sample\\_data'\n\\end{enumerate*}\n",
            "text/markdown": "1. 'ob_sub.csv'\n2. 'sample_data'\n\n\n",
            "text/html": [
              "<style>\n",
              ".list-inline {list-style: none; margin:0; padding: 0}\n",
              ".list-inline>li {display: inline-block}\n",
              ".list-inline>li:not(:last-child)::after {content: \"\\00b7\"; padding: 0 .5ex}\n",
              "</style>\n",
              "<ol class=list-inline><li>'ob_sub.csv'</li><li>'sample_data'</li></ol>\n"
            ]
          },
          "metadata": {
            "tags": []
          }
        }
      ]
    },
    {
      "cell_type": "code",
      "metadata": {
        "id": "Eb1ge4t2rByE",
        "colab_type": "code",
        "colab": {}
      },
      "source": [
        "# Cach 1:\n",
        "# upload file can doc len thu muc /content cua ung dung\n",
        "# sau do doc file\n",
        "x = read.csv(\"ob_sub.csv\")"
      ],
      "execution_count": 34,
      "outputs": []
    },
    {
      "cell_type": "code",
      "metadata": {
        "id": "V-I-0rnr2Ch8",
        "colab_type": "code",
        "colab": {
          "base_uri": "https://localhost:8080/",
          "height": 288
        },
        "outputId": "83849832-ac56-424a-aa3c-33ff6fd8c0cb"
      },
      "source": [
        "x"
      ],
      "execution_count": 44,
      "outputs": [
        {
          "output_type": "display_data",
          "data": {
            "text/plain": [
              "   X  id gender height weight bmi  age bmc  bmd  fat   lean  pcfat\n",
              "1   1  1 F      150    49     21.8 53  1312 0.88 17802 28600 37.3 \n",
              "2   2  2 M      165    52     19.1 65  1309 0.84  8381 40229 16.8 \n",
              "3   3  3 F      157    57     23.1 64  1230 0.84 19221 36057 34.0 \n",
              "4   4  4 F      156    53     21.8 56  1171 0.80 17472 33094 33.8 \n",
              "5   5  5 M      160    51     19.9 54  1681 0.98  7336 40621 14.8 \n",
              "6   6  6 F      153    47     20.1 52  1358 0.91 14904 30068 32.2 \n",
              "7   7  7 F      155    58     24.1 66  1546 0.96 20233 35599 35.3 \n",
              "8   8  8 M      167    65     23.3 50  2276 1.11 17749 43301 28.0 \n",
              "9   9  9 M      165    54     19.8 61  1778 0.96 10795 38613 21.1 \n",
              "10 10 10 F      158    60     24.0 58  1404 0.86 21365 35534 36.6 "
            ],
            "text/latex": "A data.frame: 10 × 12\n\\begin{tabular}{llllllllllll}\n X & id & gender & height & weight & bmi & age & bmc & bmd & fat & lean & pcfat\\\\\n <int> & <int> & <fct> & <int> & <int> & <dbl> & <int> & <int> & <dbl> & <int> & <int> & <dbl>\\\\\n\\hline\n\t  1 &  1 & F & 150 & 49 & 21.8 & 53 & 1312 & 0.88 & 17802 & 28600 & 37.3\\\\\n\t  2 &  2 & M & 165 & 52 & 19.1 & 65 & 1309 & 0.84 &  8381 & 40229 & 16.8\\\\\n\t  3 &  3 & F & 157 & 57 & 23.1 & 64 & 1230 & 0.84 & 19221 & 36057 & 34.0\\\\\n\t  4 &  4 & F & 156 & 53 & 21.8 & 56 & 1171 & 0.80 & 17472 & 33094 & 33.8\\\\\n\t  5 &  5 & M & 160 & 51 & 19.9 & 54 & 1681 & 0.98 &  7336 & 40621 & 14.8\\\\\n\t  6 &  6 & F & 153 & 47 & 20.1 & 52 & 1358 & 0.91 & 14904 & 30068 & 32.2\\\\\n\t  7 &  7 & F & 155 & 58 & 24.1 & 66 & 1546 & 0.96 & 20233 & 35599 & 35.3\\\\\n\t  8 &  8 & M & 167 & 65 & 23.3 & 50 & 2276 & 1.11 & 17749 & 43301 & 28.0\\\\\n\t  9 &  9 & M & 165 & 54 & 19.8 & 61 & 1778 & 0.96 & 10795 & 38613 & 21.1\\\\\n\t 10 & 10 & F & 158 & 60 & 24.0 & 58 & 1404 & 0.86 & 21365 & 35534 & 36.6\\\\\n\\end{tabular}\n",
            "text/markdown": "\nA data.frame: 10 × 12\n\n| X &lt;int&gt; | id &lt;int&gt; | gender &lt;fct&gt; | height &lt;int&gt; | weight &lt;int&gt; | bmi &lt;dbl&gt; | age &lt;int&gt; | bmc &lt;int&gt; | bmd &lt;dbl&gt; | fat &lt;int&gt; | lean &lt;int&gt; | pcfat &lt;dbl&gt; |\n|---|---|---|---|---|---|---|---|---|---|---|---|\n|  1 |  1 | F | 150 | 49 | 21.8 | 53 | 1312 | 0.88 | 17802 | 28600 | 37.3 |\n|  2 |  2 | M | 165 | 52 | 19.1 | 65 | 1309 | 0.84 |  8381 | 40229 | 16.8 |\n|  3 |  3 | F | 157 | 57 | 23.1 | 64 | 1230 | 0.84 | 19221 | 36057 | 34.0 |\n|  4 |  4 | F | 156 | 53 | 21.8 | 56 | 1171 | 0.80 | 17472 | 33094 | 33.8 |\n|  5 |  5 | M | 160 | 51 | 19.9 | 54 | 1681 | 0.98 |  7336 | 40621 | 14.8 |\n|  6 |  6 | F | 153 | 47 | 20.1 | 52 | 1358 | 0.91 | 14904 | 30068 | 32.2 |\n|  7 |  7 | F | 155 | 58 | 24.1 | 66 | 1546 | 0.96 | 20233 | 35599 | 35.3 |\n|  8 |  8 | M | 167 | 65 | 23.3 | 50 | 2276 | 1.11 | 17749 | 43301 | 28.0 |\n|  9 |  9 | M | 165 | 54 | 19.8 | 61 | 1778 | 0.96 | 10795 | 38613 | 21.1 |\n| 10 | 10 | F | 158 | 60 | 24.0 | 58 | 1404 | 0.86 | 21365 | 35534 | 36.6 |\n\n",
            "text/html": [
              "<table>\n",
              "<caption>A data.frame: 10 × 12</caption>\n",
              "<thead>\n",
              "\t<tr><th scope=col>X</th><th scope=col>id</th><th scope=col>gender</th><th scope=col>height</th><th scope=col>weight</th><th scope=col>bmi</th><th scope=col>age</th><th scope=col>bmc</th><th scope=col>bmd</th><th scope=col>fat</th><th scope=col>lean</th><th scope=col>pcfat</th></tr>\n",
              "\t<tr><th scope=col>&lt;int&gt;</th><th scope=col>&lt;int&gt;</th><th scope=col>&lt;fct&gt;</th><th scope=col>&lt;int&gt;</th><th scope=col>&lt;int&gt;</th><th scope=col>&lt;dbl&gt;</th><th scope=col>&lt;int&gt;</th><th scope=col>&lt;int&gt;</th><th scope=col>&lt;dbl&gt;</th><th scope=col>&lt;int&gt;</th><th scope=col>&lt;int&gt;</th><th scope=col>&lt;dbl&gt;</th></tr>\n",
              "</thead>\n",
              "<tbody>\n",
              "\t<tr><td> 1</td><td> 1</td><td>F</td><td>150</td><td>49</td><td>21.8</td><td>53</td><td>1312</td><td>0.88</td><td>17802</td><td>28600</td><td>37.3</td></tr>\n",
              "\t<tr><td> 2</td><td> 2</td><td>M</td><td>165</td><td>52</td><td>19.1</td><td>65</td><td>1309</td><td>0.84</td><td> 8381</td><td>40229</td><td>16.8</td></tr>\n",
              "\t<tr><td> 3</td><td> 3</td><td>F</td><td>157</td><td>57</td><td>23.1</td><td>64</td><td>1230</td><td>0.84</td><td>19221</td><td>36057</td><td>34.0</td></tr>\n",
              "\t<tr><td> 4</td><td> 4</td><td>F</td><td>156</td><td>53</td><td>21.8</td><td>56</td><td>1171</td><td>0.80</td><td>17472</td><td>33094</td><td>33.8</td></tr>\n",
              "\t<tr><td> 5</td><td> 5</td><td>M</td><td>160</td><td>51</td><td>19.9</td><td>54</td><td>1681</td><td>0.98</td><td> 7336</td><td>40621</td><td>14.8</td></tr>\n",
              "\t<tr><td> 6</td><td> 6</td><td>F</td><td>153</td><td>47</td><td>20.1</td><td>52</td><td>1358</td><td>0.91</td><td>14904</td><td>30068</td><td>32.2</td></tr>\n",
              "\t<tr><td> 7</td><td> 7</td><td>F</td><td>155</td><td>58</td><td>24.1</td><td>66</td><td>1546</td><td>0.96</td><td>20233</td><td>35599</td><td>35.3</td></tr>\n",
              "\t<tr><td> 8</td><td> 8</td><td>M</td><td>167</td><td>65</td><td>23.3</td><td>50</td><td>2276</td><td>1.11</td><td>17749</td><td>43301</td><td>28.0</td></tr>\n",
              "\t<tr><td> 9</td><td> 9</td><td>M</td><td>165</td><td>54</td><td>19.8</td><td>61</td><td>1778</td><td>0.96</td><td>10795</td><td>38613</td><td>21.1</td></tr>\n",
              "\t<tr><td>10</td><td>10</td><td>F</td><td>158</td><td>60</td><td>24.0</td><td>58</td><td>1404</td><td>0.86</td><td>21365</td><td>35534</td><td>36.6</td></tr>\n",
              "</tbody>\n",
              "</table>\n"
            ]
          },
          "metadata": {
            "tags": []
          }
        }
      ]
    },
    {
      "cell_type": "code",
      "metadata": {
        "id": "oppPJJavrMGP",
        "colab_type": "code",
        "colab": {
          "base_uri": "https://localhost:8080/",
          "height": 34
        },
        "outputId": "db9e0abf-0092-46f3-ca93-8fc51346296c"
      },
      "source": [
        "list.files()"
      ],
      "execution_count": 43,
      "outputs": [
        {
          "output_type": "display_data",
          "data": {
            "text/plain": [
              "[1] \"ob_head.csv\" \"ob_sub.csv\"  \"sample_data\""
            ],
            "text/latex": "\\begin{enumerate*}\n\\item 'ob\\_head.csv'\n\\item 'ob\\_sub.csv'\n\\item 'sample\\_data'\n\\end{enumerate*}\n",
            "text/markdown": "1. 'ob_head.csv'\n2. 'ob_sub.csv'\n3. 'sample_data'\n\n\n",
            "text/html": [
              "<style>\n",
              ".list-inline {list-style: none; margin:0; padding: 0}\n",
              ".list-inline>li {display: inline-block}\n",
              ".list-inline>li:not(:last-child)::after {content: \"\\00b7\"; padding: 0 .5ex}\n",
              "</style>\n",
              "<ol class=list-inline><li>'ob_head.csv'</li><li>'ob_sub.csv'</li><li>'sample_data'</li></ol>\n"
            ]
          },
          "metadata": {
            "tags": []
          }
        }
      ]
    },
    {
      "cell_type": "code",
      "metadata": {
        "id": "mezs5M-12Gdj",
        "colab_type": "code",
        "colab": {}
      },
      "source": [
        "# Cach 2: \n",
        "# Lay id cua tap tin can doc (o che do viewer)\n",
        "# https://drive.google.com/file/d/1vIGZPt81Pfny_O4bGwuP5ooNG-VnbCpY/view?usp=sharing\n",
        "system(\"gdown --id 1vIGZPt81Pfny_O4bGwuP5ooNG-VnbCpY\")"
      ],
      "execution_count": 45,
      "outputs": []
    },
    {
      "cell_type": "code",
      "metadata": {
        "id": "ViXZAUUJ2SkN",
        "colab_type": "code",
        "colab": {}
      },
      "source": [
        "# doc tap tin vua lay id o tren\n",
        "ob = read.csv(\"Obesity_data.csv\")"
      ],
      "execution_count": 46,
      "outputs": []
    },
    {
      "cell_type": "code",
      "metadata": {
        "id": "64plZa8x2V7U",
        "colab_type": "code",
        "colab": {
          "base_uri": "https://localhost:8080/",
          "height": 34
        },
        "outputId": "9e76f7ec-8d48-4a77-f66e-7828713d3055"
      },
      "source": [
        "dim(ob)"
      ],
      "execution_count": 47,
      "outputs": [
        {
          "output_type": "display_data",
          "data": {
            "text/plain": [
              "[1] 1217   11"
            ],
            "text/latex": "\\begin{enumerate*}\n\\item 1217\n\\item 11\n\\end{enumerate*}\n",
            "text/markdown": "1. 1217\n2. 11\n\n\n",
            "text/html": [
              "<style>\n",
              ".list-inline {list-style: none; margin:0; padding: 0}\n",
              ".list-inline>li {display: inline-block}\n",
              ".list-inline>li:not(:last-child)::after {content: \"\\00b7\"; padding: 0 .5ex}\n",
              "</style>\n",
              "<ol class=list-inline><li>1217</li><li>11</li></ol>\n"
            ]
          },
          "metadata": {
            "tags": []
          }
        }
      ]
    },
    {
      "cell_type": "code",
      "metadata": {
        "id": "g6lFFN3cz-1-",
        "colab_type": "code",
        "colab": {}
      },
      "source": [
        "# ghi file\n",
        "write.csv(head(x),\"ob_head.csv\", row.names=FALSE)"
      ],
      "execution_count": 41,
      "outputs": []
    },
    {
      "cell_type": "code",
      "metadata": {
        "id": "ad4iZkv00mrR",
        "colab_type": "code",
        "colab": {
          "base_uri": "https://localhost:8080/",
          "height": 204
        },
        "outputId": "f03a911d-bb50-4c44-b6be-b66fbfba89f5"
      },
      "source": [
        "y = read.csv(\"ob_head.csv\")\n",
        "y"
      ],
      "execution_count": 42,
      "outputs": [
        {
          "output_type": "display_data",
          "data": {
            "text/plain": [
              "  X id gender height weight bmi  age bmc  bmd  fat   lean  pcfat\n",
              "1 1 1  F      150    49     21.8 53  1312 0.88 17802 28600 37.3 \n",
              "2 2 2  M      165    52     19.1 65  1309 0.84  8381 40229 16.8 \n",
              "3 3 3  F      157    57     23.1 64  1230 0.84 19221 36057 34.0 \n",
              "4 4 4  F      156    53     21.8 56  1171 0.80 17472 33094 33.8 \n",
              "5 5 5  M      160    51     19.9 54  1681 0.98  7336 40621 14.8 \n",
              "6 6 6  F      153    47     20.1 52  1358 0.91 14904 30068 32.2 "
            ],
            "text/latex": "A data.frame: 6 × 12\n\\begin{tabular}{llllllllllll}\n X & id & gender & height & weight & bmi & age & bmc & bmd & fat & lean & pcfat\\\\\n <int> & <int> & <fct> & <int> & <int> & <dbl> & <int> & <int> & <dbl> & <int> & <int> & <dbl>\\\\\n\\hline\n\t 1 & 1 & F & 150 & 49 & 21.8 & 53 & 1312 & 0.88 & 17802 & 28600 & 37.3\\\\\n\t 2 & 2 & M & 165 & 52 & 19.1 & 65 & 1309 & 0.84 &  8381 & 40229 & 16.8\\\\\n\t 3 & 3 & F & 157 & 57 & 23.1 & 64 & 1230 & 0.84 & 19221 & 36057 & 34.0\\\\\n\t 4 & 4 & F & 156 & 53 & 21.8 & 56 & 1171 & 0.80 & 17472 & 33094 & 33.8\\\\\n\t 5 & 5 & M & 160 & 51 & 19.9 & 54 & 1681 & 0.98 &  7336 & 40621 & 14.8\\\\\n\t 6 & 6 & F & 153 & 47 & 20.1 & 52 & 1358 & 0.91 & 14904 & 30068 & 32.2\\\\\n\\end{tabular}\n",
            "text/markdown": "\nA data.frame: 6 × 12\n\n| X &lt;int&gt; | id &lt;int&gt; | gender &lt;fct&gt; | height &lt;int&gt; | weight &lt;int&gt; | bmi &lt;dbl&gt; | age &lt;int&gt; | bmc &lt;int&gt; | bmd &lt;dbl&gt; | fat &lt;int&gt; | lean &lt;int&gt; | pcfat &lt;dbl&gt; |\n|---|---|---|---|---|---|---|---|---|---|---|---|\n| 1 | 1 | F | 150 | 49 | 21.8 | 53 | 1312 | 0.88 | 17802 | 28600 | 37.3 |\n| 2 | 2 | M | 165 | 52 | 19.1 | 65 | 1309 | 0.84 |  8381 | 40229 | 16.8 |\n| 3 | 3 | F | 157 | 57 | 23.1 | 64 | 1230 | 0.84 | 19221 | 36057 | 34.0 |\n| 4 | 4 | F | 156 | 53 | 21.8 | 56 | 1171 | 0.80 | 17472 | 33094 | 33.8 |\n| 5 | 5 | M | 160 | 51 | 19.9 | 54 | 1681 | 0.98 |  7336 | 40621 | 14.8 |\n| 6 | 6 | F | 153 | 47 | 20.1 | 52 | 1358 | 0.91 | 14904 | 30068 | 32.2 |\n\n",
            "text/html": [
              "<table>\n",
              "<caption>A data.frame: 6 × 12</caption>\n",
              "<thead>\n",
              "\t<tr><th scope=col>X</th><th scope=col>id</th><th scope=col>gender</th><th scope=col>height</th><th scope=col>weight</th><th scope=col>bmi</th><th scope=col>age</th><th scope=col>bmc</th><th scope=col>bmd</th><th scope=col>fat</th><th scope=col>lean</th><th scope=col>pcfat</th></tr>\n",
              "\t<tr><th scope=col>&lt;int&gt;</th><th scope=col>&lt;int&gt;</th><th scope=col>&lt;fct&gt;</th><th scope=col>&lt;int&gt;</th><th scope=col>&lt;int&gt;</th><th scope=col>&lt;dbl&gt;</th><th scope=col>&lt;int&gt;</th><th scope=col>&lt;int&gt;</th><th scope=col>&lt;dbl&gt;</th><th scope=col>&lt;int&gt;</th><th scope=col>&lt;int&gt;</th><th scope=col>&lt;dbl&gt;</th></tr>\n",
              "</thead>\n",
              "<tbody>\n",
              "\t<tr><td>1</td><td>1</td><td>F</td><td>150</td><td>49</td><td>21.8</td><td>53</td><td>1312</td><td>0.88</td><td>17802</td><td>28600</td><td>37.3</td></tr>\n",
              "\t<tr><td>2</td><td>2</td><td>M</td><td>165</td><td>52</td><td>19.1</td><td>65</td><td>1309</td><td>0.84</td><td> 8381</td><td>40229</td><td>16.8</td></tr>\n",
              "\t<tr><td>3</td><td>3</td><td>F</td><td>157</td><td>57</td><td>23.1</td><td>64</td><td>1230</td><td>0.84</td><td>19221</td><td>36057</td><td>34.0</td></tr>\n",
              "\t<tr><td>4</td><td>4</td><td>F</td><td>156</td><td>53</td><td>21.8</td><td>56</td><td>1171</td><td>0.80</td><td>17472</td><td>33094</td><td>33.8</td></tr>\n",
              "\t<tr><td>5</td><td>5</td><td>M</td><td>160</td><td>51</td><td>19.9</td><td>54</td><td>1681</td><td>0.98</td><td> 7336</td><td>40621</td><td>14.8</td></tr>\n",
              "\t<tr><td>6</td><td>6</td><td>F</td><td>153</td><td>47</td><td>20.1</td><td>52</td><td>1358</td><td>0.91</td><td>14904</td><td>30068</td><td>32.2</td></tr>\n",
              "</tbody>\n",
              "</table>\n"
            ]
          },
          "metadata": {
            "tags": []
          }
        }
      ]
    },
    {
      "cell_type": "code",
      "metadata": {
        "id": "7OGlp8S_1rox",
        "colab_type": "code",
        "colab": {}
      },
      "source": [
        "# download file vua ghi xuong tai thu muc /content cua ung dung "
      ],
      "execution_count": null,
      "outputs": []
    }
  ]
}