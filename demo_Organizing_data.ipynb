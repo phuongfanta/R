{
  "nbformat": 4,
  "nbformat_minor": 0,
  "metadata": {
    "kernelspec": {
      "display_name": "R",
      "language": "R",
      "name": "ir"
    },
    "language_info": {
      "codemirror_mode": "r",
      "file_extension": ".r",
      "mimetype": "text/x-r-source",
      "name": "R",
      "pygments_lexer": "r",
      "version": "3.3.3"
    },
    "colab": {
      "name": "demo_Organizing_data.ipynb",
      "provenance": [],
      "include_colab_link": true
    }
  },
  "cells": [
    {
      "cell_type": "markdown",
      "metadata": {
        "id": "view-in-github",
        "colab_type": "text"
      },
      "source": [
        "<a href=\"https://colab.research.google.com/github/phuongfanta/R/blob/master/demo_Organizing_data.ipynb\" target=\"_parent\"><img src=\"https://colab.research.google.com/assets/colab-badge.svg\" alt=\"Open In Colab\"/></a>"
      ]
    },
    {
      "cell_type": "markdown",
      "metadata": {
        "id": "heAUh4cz6iyY",
        "colab_type": "text"
      },
      "source": [
        "# Lấy mẫu Bootstrap"
      ]
    },
    {
      "cell_type": "code",
      "metadata": {
        "id": "xtpi8-eY6iyZ",
        "colab_type": "code",
        "colab": {}
      },
      "source": [
        "or.sample <- c(3.12, 0.0, 1.57, 19.67, 0.22, 2.20)"
      ],
      "execution_count": null,
      "outputs": []
    },
    {
      "cell_type": "code",
      "metadata": {
        "id": "z-Eduofk6iyc",
        "colab_type": "code",
        "colab": {}
      },
      "source": [
        "bs.sample <- sample(or.sample, replace = T)"
      ],
      "execution_count": null,
      "outputs": []
    },
    {
      "cell_type": "code",
      "metadata": {
        "id": "hWsocOCG6iye",
        "colab_type": "code",
        "colab": {},
        "outputId": "4b660b8d-39bb-4b6e-b37e-6677f49c6237"
      },
      "source": [
        "bs.sample"
      ],
      "execution_count": null,
      "outputs": [
        {
          "output_type": "display_data",
          "data": {
            "text/html": [
              "<ol class=list-inline>\n",
              "\t<li>19.67</li>\n",
              "\t<li>0.22</li>\n",
              "\t<li>3.12</li>\n",
              "\t<li>2.2</li>\n",
              "\t<li>2.2</li>\n",
              "\t<li>0</li>\n",
              "</ol>\n"
            ],
            "text/latex": "\\begin{enumerate*}\n\\item 19.67\n\\item 0.22\n\\item 3.12\n\\item 2.2\n\\item 2.2\n\\item 0\n\\end{enumerate*}\n",
            "text/markdown": "1. 19.67\n2. 0.22\n3. 3.12\n4. 2.2\n5. 2.2\n6. 0\n\n\n",
            "text/plain": [
              "[1] 19.67  0.22  3.12  2.20  2.20  0.00"
            ]
          },
          "metadata": {
            "tags": []
          }
        }
      ]
    },
    {
      "cell_type": "markdown",
      "metadata": {
        "id": "Qx61H_1W6iyh",
        "colab_type": "text"
      },
      "source": [
        "# R package"
      ]
    },
    {
      "cell_type": "code",
      "metadata": {
        "id": "OavvveEH6iyh",
        "colab_type": "code",
        "colab": {},
        "outputId": "b253ac0a-4aac-46ea-ab8c-d0768df7b6e3"
      },
      "source": [
        "install.packages(\"installr\")"
      ],
      "execution_count": null,
      "outputs": [
        {
          "output_type": "stream",
          "text": [
            "Installing package into 'C:/Users/ktphuong/Documents/R/win-library/3.3'\n",
            "(as 'lib' is unspecified)\n",
            "\n"
          ],
          "name": "stderr"
        },
        {
          "output_type": "stream",
          "text": [
            "package 'installr' successfully unpacked and MD5 sums checked\n",
            "\n",
            "The downloaded binary packages are in\n",
            "\tC:\\Users\\ktphuong\\AppData\\Local\\Temp\\Rtmp4MlxHg\\downloaded_packages\n"
          ],
          "name": "stdout"
        }
      ]
    },
    {
      "cell_type": "code",
      "metadata": {
        "id": "vgcOZRCO6iyj",
        "colab_type": "code",
        "colab": {}
      },
      "source": [
        "library(installr)"
      ],
      "execution_count": null,
      "outputs": []
    },
    {
      "cell_type": "code",
      "metadata": {
        "id": "61G7RX266iym",
        "colab_type": "code",
        "colab": {},
        "outputId": "68f93a5a-6b31-4cc8-a3ee-0452b3ed80fc"
      },
      "source": [
        "updateR()"
      ],
      "execution_count": null,
      "outputs": [
        {
          "output_type": "error",
          "ename": "ERROR",
          "evalue": "Error in winDialog(type = \"ok\", message = message_text): winDialog() cannot be used non-interactively\n",
          "traceback": [
            "Error in winDialog(type = \"ok\", message = message_text): winDialog() cannot be used non-interactively\nTraceback:\n",
            "1. updateR()",
            "2. check.for.updates.R(print_R_versions, GUI = GUI, page_with_download_url = paste0(cran_mirror, \n .     \"bin/windows/base/\"))",
            "3. winDialog(type = \"ok\", message = message_text)",
            "4. stop(\"winDialog() cannot be used non-interactively\")"
          ]
        }
      ]
    },
    {
      "cell_type": "code",
      "metadata": {
        "id": "uKU4ekS06iyo",
        "colab_type": "code",
        "colab": {}
      },
      "source": [
        "hh <- read.csv(\"Hoa_hau_Vietnam.csv\")"
      ],
      "execution_count": null,
      "outputs": []
    },
    {
      "cell_type": "code",
      "metadata": {
        "id": "FETqOSJT6iyq",
        "colab_type": "code",
        "colab": {},
        "outputId": "3876b6f7-d213-4b4d-872f-bea6e18bc3b6"
      },
      "source": [
        "install.packages(\"table1\")"
      ],
      "execution_count": null,
      "outputs": [
        {
          "output_type": "stream",
          "text": [
            "Installing package into 'C:/Users/ktphuong/Documents/R/win-library/3.3'\n",
            "(as 'lib' is unspecified)\n",
            "\n",
            "Warning message:\n",
            "\"package 'table1' is not available (for R version 3.3.3)\"\n"
          ],
          "name": "stderr"
        }
      ]
    },
    {
      "cell_type": "code",
      "metadata": {
        "id": "xtsh2ak86iys",
        "colab_type": "code",
        "colab": {},
        "outputId": "89f1c41a-ba83-40e6-f4fe-c56cf0dcb04a"
      },
      "source": [
        "library(\"table1\")"
      ],
      "execution_count": null,
      "outputs": [
        {
          "output_type": "error",
          "ename": "ERROR",
          "evalue": "Error in library(\"table1\"): there is no package called 'table1'\n",
          "traceback": [
            "Error in library(\"table1\"): there is no package called 'table1'\nTraceback:\n",
            "1. library(\"table1\")",
            "2. stop(txt, domain = NA)"
          ]
        }
      ]
    },
    {
      "cell_type": "code",
      "metadata": {
        "id": "Re6_XS796iyu",
        "colab_type": "code",
        "colab": {},
        "outputId": "855754f0-dc1d-48ff-fdee-78cc8ed303a4"
      },
      "source": [
        "install.packages('compareGroups')"
      ],
      "execution_count": null,
      "outputs": [
        {
          "output_type": "stream",
          "text": [
            "Installing package into 'C:/Users/ktphuong/Documents/R/win-library/3.3'\n",
            "(as 'lib' is unspecified)\n",
            "\n",
            "also installing the dependencies 'zoo', 'MatrixModels', 'TH.data', 'sandwich', 'SparseM', 'quantreg', 'polspline', 'multcomp', 'checkmate', 'htmlwidgets', 'viridisLite', 'rms', 'bitops', 'backports', 'Formula', 'latticeExtra', 'acepack', 'gridExtra', 'data.table', 'htmlTable', 'viridis', 'htmltools', 'base64enc', 'gtools', 'haplo.stats', 'mvtnorm', 'mice', 'yaml', 'caTools', 'rprojroot', 'highr', 'markdown', 'Hmisc', 'gdata', 'xtable', 'SNPassoc', 'epitools', 'HardyWeinberg', 'rmarkdown', 'knitr'\n",
            "\n",
            "\n"
          ],
          "name": "stderr"
        },
        {
          "output_type": "stream",
          "text": [
            "package 'zoo' successfully unpacked and MD5 sums checked\n",
            "package 'MatrixModels' successfully unpacked and MD5 sums checked\n",
            "package 'TH.data' successfully unpacked and MD5 sums checked\n",
            "package 'sandwich' successfully unpacked and MD5 sums checked\n",
            "package 'SparseM' successfully unpacked and MD5 sums checked\n",
            "package 'quantreg' successfully unpacked and MD5 sums checked\n",
            "package 'polspline' successfully unpacked and MD5 sums checked\n",
            "package 'multcomp' successfully unpacked and MD5 sums checked\n",
            "package 'checkmate' successfully unpacked and MD5 sums checked\n",
            "package 'htmlwidgets' successfully unpacked and MD5 sums checked\n",
            "package 'viridisLite' successfully unpacked and MD5 sums checked\n",
            "package 'rms' successfully unpacked and MD5 sums checked\n",
            "package 'bitops' successfully unpacked and MD5 sums checked\n",
            "package 'backports' successfully unpacked and MD5 sums checked\n",
            "package 'Formula' successfully unpacked and MD5 sums checked\n",
            "package 'latticeExtra' successfully unpacked and MD5 sums checked\n",
            "package 'acepack' successfully unpacked and MD5 sums checked\n",
            "package 'gridExtra' successfully unpacked and MD5 sums checked\n",
            "package 'data.table' successfully unpacked and MD5 sums checked\n",
            "package 'htmlTable' successfully unpacked and MD5 sums checked\n",
            "package 'viridis' successfully unpacked and MD5 sums checked\n",
            "package 'htmltools' successfully unpacked and MD5 sums checked\n",
            "package 'base64enc' successfully unpacked and MD5 sums checked\n",
            "package 'gtools' successfully unpacked and MD5 sums checked\n",
            "package 'haplo.stats' successfully unpacked and MD5 sums checked\n",
            "package 'mvtnorm' successfully unpacked and MD5 sums checked\n",
            "package 'mice' successfully unpacked and MD5 sums checked\n",
            "package 'yaml' successfully unpacked and MD5 sums checked\n",
            "package 'caTools' successfully unpacked and MD5 sums checked\n",
            "package 'rprojroot' successfully unpacked and MD5 sums checked\n",
            "package 'highr' successfully unpacked and MD5 sums checked\n",
            "package 'markdown' successfully unpacked and MD5 sums checked\n",
            "package 'Hmisc' successfully unpacked and MD5 sums checked\n",
            "package 'gdata' successfully unpacked and MD5 sums checked\n",
            "package 'xtable' successfully unpacked and MD5 sums checked\n",
            "package 'SNPassoc' successfully unpacked and MD5 sums checked\n",
            "package 'epitools' successfully unpacked and MD5 sums checked\n",
            "package 'HardyWeinberg' successfully unpacked and MD5 sums checked\n",
            "package 'rmarkdown' successfully unpacked and MD5 sums checked\n",
            "package 'knitr' successfully unpacked and MD5 sums checked\n",
            "package 'compareGroups' successfully unpacked and MD5 sums checked\n",
            "\n",
            "The downloaded binary packages are in\n",
            "\tC:\\Users\\ktphuong\\AppData\\Local\\Temp\\Rtmp4MlxHg\\downloaded_packages\n"
          ],
          "name": "stdout"
        }
      ]
    },
    {
      "cell_type": "code",
      "metadata": {
        "id": "tSb8HPut6iyw",
        "colab_type": "code",
        "colab": {},
        "outputId": "328ddd9d-58b8-486e-a7cb-f1d538aa6c33"
      },
      "source": [
        "library(compareGroups)"
      ],
      "execution_count": null,
      "outputs": [
        {
          "output_type": "stream",
          "text": [
            "Loading required package: Hmisc\n",
            "\n",
            "Loading required package: survival\n",
            "\n",
            "Loading required package: Formula\n",
            "\n",
            "Loading required package: ggplot2\n",
            "\n",
            "\n",
            "Attaching package: 'Hmisc'\n",
            "\n",
            "\n",
            "The following objects are masked from 'package:base':\n",
            "\n",
            "    format.pval, round.POSIXt, trunc.POSIXt, units\n",
            "\n",
            "\n",
            "Loading required package: gdata\n",
            "\n",
            "gdata: Unable to locate valid perl interpreter\n",
            "gdata: \n",
            "gdata: read.xls() will be unable to read Excel XLS and XLSX files\n",
            "gdata: unless the 'perl=' argument is used to specify the location of a\n",
            "gdata: valid perl intrpreter.\n",
            "gdata: \n",
            "gdata: (To avoid display of this message in the future, please ensure\n",
            "gdata: perl is installed and available on the executable search path.)\n",
            "\n",
            "gdata: Unable to load perl libaries needed by read.xls()\n",
            "gdata: to support 'XLX' (Excel 97-2004) files.\n",
            "\n",
            "\n",
            "\n",
            "gdata: Unable to load perl libaries needed by read.xls()\n",
            "gdata: to support 'XLSX' (Excel 2007+) files.\n",
            "\n",
            "\n",
            "\n",
            "gdata: Run the function 'installXLSXsupport()'\n",
            "gdata: to automatically download and install the perl\n",
            "gdata: libaries needed to support Excel XLS and XLSX formats.\n",
            "\n",
            "\n",
            "Attaching package: 'gdata'\n",
            "\n",
            "\n",
            "The following object is masked from 'package:Hmisc':\n",
            "\n",
            "    combine\n",
            "\n",
            "\n",
            "The following object is masked from 'package:stats':\n",
            "\n",
            "    nobs\n",
            "\n",
            "\n",
            "The following object is masked from 'package:utils':\n",
            "\n",
            "    object.size\n",
            "\n",
            "\n",
            "The following object is masked from 'package:base':\n",
            "\n",
            "    startsWith\n",
            "\n",
            "\n",
            "Loading required package: xtable\n",
            "\n",
            "\n",
            "Attaching package: 'xtable'\n",
            "\n",
            "\n",
            "The following objects are masked from 'package:Hmisc':\n",
            "\n",
            "    label, label<-\n",
            "\n",
            "\n",
            "Loading required package: SNPassoc\n",
            "\n",
            "Loading required package: haplo.stats\n",
            "\n",
            "Loading required package: mvtnorm\n",
            "\n",
            "Loading required package: parallel\n",
            "\n"
          ],
          "name": "stderr"
        }
      ]
    },
    {
      "cell_type": "code",
      "metadata": {
        "id": "MUbVq_om6iyz",
        "colab_type": "code",
        "colab": {}
      },
      "source": [
        "t1 = compareGroups(Group~Age+Height+Bust+Waist+Hip+Region, data = hh)"
      ],
      "execution_count": null,
      "outputs": []
    },
    {
      "cell_type": "code",
      "metadata": {
        "id": "ZjgiJxcM6iy1",
        "colab_type": "code",
        "colab": {},
        "outputId": "cfc86a9d-037c-4299-9978-285a1c88afd9"
      },
      "source": [
        "t1"
      ],
      "execution_count": null,
      "outputs": [
        {
          "output_type": "display_data",
          "data": {
            "text/plain": [
              "\n",
              "\n",
              "-------- Summary of results by groups of 'Group'---------\n",
              "\n",
              "\n",
              "  var    N  p.value method            selection\n",
              "1 Age    45 0.646   continuous normal ALL      \n",
              "2 Height 46 0.819   continuous normal ALL      \n",
              "3 Bust   16 .       continuous normal ALL      \n",
              "4 Waist  16 .       continuous normal ALL      \n",
              "5 Hip    16 .       continuous normal ALL      \n",
              "6 Region 46 0.125   categorical       ALL      \n",
              "-----\n",
              "Signif. codes:  0 '**' 0.05 '*' 0.1 ' ' 1 \n"
            ]
          },
          "metadata": {
            "tags": []
          }
        }
      ]
    },
    {
      "cell_type": "markdown",
      "metadata": {
        "id": "WZ3vKer06iy3",
        "colab_type": "text"
      },
      "source": [
        "# DescTools"
      ]
    },
    {
      "cell_type": "code",
      "metadata": {
        "id": "Oce_5xB26iy3",
        "colab_type": "code",
        "colab": {},
        "outputId": "4c1f9fea-6c3e-404f-97d5-aba7c6a2488a"
      },
      "source": [
        "install.packages('DescTools')"
      ],
      "execution_count": null,
      "outputs": [
        {
          "output_type": "stream",
          "text": [
            "Installing package into 'C:/Users/ktphuong/Documents/R/win-library/3.3'\n",
            "(as 'lib' is unspecified)\n",
            "\n",
            "also installing the dependencies 'manipulate', 'expm', 'BH'\n",
            "\n",
            "\n"
          ],
          "name": "stderr"
        },
        {
          "output_type": "stream",
          "text": [
            "package 'manipulate' successfully unpacked and MD5 sums checked\n",
            "package 'expm' successfully unpacked and MD5 sums checked\n",
            "package 'BH' successfully unpacked and MD5 sums checked\n"
          ],
          "name": "stdout"
        },
        {
          "output_type": "stream",
          "text": [
            "Warning message:\n",
            "\"unable to move temporary installation 'C:\\Users\\ktphuong\\Documents\\R\\win-library\\3.3\\file2bb07c602510\\BH' to 'C:\\Users\\ktphuong\\Documents\\R\\win-library\\3.3\\BH'\"\n"
          ],
          "name": "stderr"
        },
        {
          "output_type": "stream",
          "text": [
            "package 'DescTools' successfully unpacked and MD5 sums checked\n",
            "\n",
            "The downloaded binary packages are in\n",
            "\tC:\\Users\\ktphuong\\AppData\\Local\\Temp\\Rtmp4MlxHg\\downloaded_packages\n"
          ],
          "name": "stdout"
        }
      ]
    },
    {
      "cell_type": "code",
      "metadata": {
        "id": "pZ4WY0iE6iy5",
        "colab_type": "code",
        "colab": {},
        "outputId": "0d4ca4ec-5f03-40e6-d169-83727e4d807c"
      },
      "source": [
        "library(DescTools)"
      ],
      "execution_count": null,
      "outputs": [
        {
          "output_type": "stream",
          "text": [
            "\n",
            "Attaching package: 'DescTools'\n",
            "\n",
            "\n",
            "The following object is masked from 'package:gdata':\n",
            "\n",
            "    reorder.factor\n",
            "\n",
            "\n",
            "The following objects are masked from 'package:Hmisc':\n",
            "\n",
            "    %nin%, Label, Mean, Quantile\n",
            "\n",
            "\n"
          ],
          "name": "stderr"
        }
      ]
    },
    {
      "cell_type": "code",
      "metadata": {
        "id": "QXt0j8fs6iy7",
        "colab_type": "code",
        "colab": {},
        "outputId": "c5a2e3e8-224d-4098-ed6c-a0de346735d0"
      },
      "source": [
        "Desc(hh$Height)"
      ],
      "execution_count": null,
      "outputs": [
        {
          "output_type": "display_data",
          "data": {
            "text/plain": [
              "------------------------------------------------------------------------------ \n",
              "hh$Height (integer)\n",
              "\n",
              "  length       n     NAs  unique      0s    mean  meanCI\n",
              "      46      46       0      15       0  170.20  168.86\n",
              "          100.0%    0.0%            0.0%          171.53\n",
              "                                                        \n",
              "     .05     .10     .25  median     .75     .90     .95\n",
              "  161.25  166.00  168.25  170.50  172.00  174.00  177.50\n",
              "                                                        \n",
              "   range      sd   vcoef     mad     IQR    skew    kurt\n",
              "   22.00    4.49    0.03    2.97    3.75   -0.54    1.36\n",
              "                                                        \n",
              "lowest : 158 (2), 160, 165, 166 (2), 167 (3)\n",
              "highest: 173 (3), 174 (4), 176, 178, 180 (2)\n"
            ]
          },
          "metadata": {
            "tags": []
          }
        },
        {
          "output_type": "display_data",
          "data": {
            "image/png": "[encoded data removed]",
            "text/plain": [
              "Plot with title \"hh$Height (integer)\""
            ]
          },
          "metadata": {
            "tags": [],
            "image/png": {
              "height": 420,
              "width": 420
            },
            "text/plain": {
              "height": 420,
              "width": 420
            }
          }
        }
      ]
    },
    {
      "cell_type": "code",
      "metadata": {
        "id": "ycf24avi6iy9",
        "colab_type": "code",
        "colab": {},
        "outputId": "75eae212-5170-472e-bace-153196c0e3e1"
      },
      "source": [
        "head(hh)"
      ],
      "execution_count": null,
      "outputs": [
        {
          "output_type": "display_data",
          "data": {
            "text/html": [
              "<table>\n",
              "<thead><tr><th scope=col>Group</th><th scope=col>Name</th><th scope=col>Name.Viet</th><th scope=col>City</th><th scope=col>Region</th><th scope=col>Crown.Year</th><th scope=col>Year</th><th scope=col>DoB</th><th scope=col>Age</th><th scope=col>Height</th><th scope=col>Bust</th><th scope=col>Waist</th><th scope=col>Hip</th><th scope=col>Weight</th></tr></thead>\n",
              "<tbody>\n",
              "\t<tr><td>Hoa Hau              </td><td>Bich Phuong          </td><td>Bi BÍch Ph__ng      </td><td>Hanoi                </td><td>North                </td><td>1988                 </td><td>15/8/88              </td><td>21/6/71              </td><td>17.2                 </td><td>158                  </td><td>86                   </td><td>60                   </td><td>88                   </td><td>50                   </td></tr>\n",
              "\t<tr><td>Hoa Hau              </td><td>Dieu Hoa             </td><td>Nguy_n Di_u Hoa      </td><td>Hanoi                </td><td>North                </td><td>1990                 </td><td>15/8/90              </td><td>18/6/69              </td><td>21.2                 </td><td>158                  </td><td>81                   </td><td>61                   </td><td>84                   </td><td>NA                   </td></tr>\n",
              "\t<tr><td>Hoa Hau              </td><td>Kieu Anh             </td><td>Hš Ki_u Anh          </td><td>Hanoi                </td><td>North                </td><td>1992                 </td><td>15/8/92              </td><td>7/7/76               </td><td>16.1                 </td><td>169                  </td><td>85                   </td><td>62                   </td><td>87                   </td><td>NA                   </td></tr>\n",
              "\t<tr><td>Hoa Hau              </td><td>Thuy Thuy            </td><td>Nguy_n Thu Th_y      </td><td>Hanoi                </td><td>North                </td><td>1995                 </td><td>15/8/95              </td><td>20/6/76              </td><td>19.2                 </td><td>169                  </td><td>78                   </td><td>58                   </td><td>88                   </td><td>NA                   </td></tr>\n",
              "\t<tr><td>Hoa Hau              </td><td>Thien Nga            </td><td>Nguy_n Thin Nga     </td><td>Saigon               </td><td>South                </td><td>1996                 </td><td>15/8/96              </td><td>25/6/75              </td><td>21.2                 </td><td>170                  </td><td>87                   </td><td>64                   </td><td>92                   </td><td>NA                   </td></tr>\n",
              "\t<tr><td>Hoa Hau              </td><td>Ngoc Khanh           </td><td>Nguy_n Th_ Ng_c Khˆnh</td><td>Saigon               </td><td>South                </td><td>1998                 </td><td>15/8/98              </td><td>22/6/76              </td><td>22.2                 </td><td>171                  </td><td>87                   </td><td>64                   </td><td>92                   </td><td>54                   </td></tr>\n",
              "</tbody>\n",
              "</table>\n"
            ],
            "text/latex": "\\begin{tabular}{r|llllllllllllll}\n Group & Name & Name.Viet & City & Region & Crown.Year & Year & DoB & Age & Height & Bust & Waist & Hip & Weight\\\\\n\\hline\n\t Hoa Hau                   & Bich Phuong               & Bi BÍch Ph\\_\\_ng       & Hanoi                     & North                     & 1988                      & 15/8/88                   & 21/6/71                   & 17.2                      & 158                       & 86                        & 60                        & 88                        & 50                       \\\\\n\t Hoa Hau                   & Dieu Hoa                  & Nguy\\_n Di\\_u Hoa       & Hanoi                     & North                     & 1990                      & 15/8/90                   & 18/6/69                   & 21.2                      & 158                       & 81                        & 61                        & 84                        & NA                       \\\\\n\t Hoa Hau                 & Kieu Anh                & Hš Ki\\_u Anh           & Hanoi                   & North                   & 1992                    & 15/8/92                 & 7/7/76                  & 16.1                    & 169                     & 85                      & 62                      & 87                      & NA                     \\\\\n\t Hoa Hau                   & Thuy Thuy                 & Nguy\\_n Thu Th\\_y       & Hanoi                     & North                     & 1995                      & 15/8/95                   & 20/6/76                   & 19.2                      & 169                       & 78                        & 58                        & 88                        & NA                       \\\\\n\t Hoa Hau                 & Thien Nga               & Nguy\\_n Thin Nga      & Saigon                  & South                   & 1996                    & 15/8/96                 & 25/6/75                 & 21.2                    & 170                     & 87                      & 64                      & 92                      & NA                     \\\\\n\t Hoa Hau                     & Ngoc Khanh                  & Nguy\\_n Th\\_ Ng\\_c Khˆnh & Saigon                      & South                       & 1998                        & 15/8/98                     & 22/6/76                     & 22.2                        & 171                         & 87                          & 64                          & 92                          & 54                         \\\\\n\\end{tabular}\n",
            "text/markdown": "\nGroup | Name | Name.Viet | City | Region | Crown.Year | Year | DoB | Age | Height | Bust | Waist | Hip | Weight | \n|---|---|---|---|---|---|\n| Hoa Hau               | Bich Phuong           | Bi BÍch Ph__ng       | Hanoi                 | North                 | 1988                  | 15/8/88               | 21/6/71               | 17.2                  | 158                   | 86                    | 60                    | 88                    | 50                    | \n| Hoa Hau               | Dieu Hoa              | Nguy_n Di_u Hoa       | Hanoi                 | North                 | 1990                  | 15/8/90               | 18/6/69               | 21.2                  | 158                   | 81                    | 61                    | 84                    | NA                    | \n| Hoa Hau               | Kieu Anh              | Hš Ki_u Anh           | Hanoi                 | North                 | 1992                  | 15/8/92               | 7/7/76                | 16.1                  | 169                   | 85                    | 62                    | 87                    | NA                    | \n| Hoa Hau               | Thuy Thuy             | Nguy_n Thu Th_y       | Hanoi                 | North                 | 1995                  | 15/8/95               | 20/6/76               | 19.2                  | 169                   | 78                    | 58                    | 88                    | NA                    | \n| Hoa Hau               | Thien Nga             | Nguy_n Thin Nga      | Saigon                | South                 | 1996                  | 15/8/96               | 25/6/75               | 21.2                  | 170                   | 87                    | 64                    | 92                    | NA                    | \n| Hoa Hau               | Ngoc Khanh            | Nguy_n Th_ Ng_c Khˆnh | Saigon                | South                 | 1998                  | 15/8/98               | 22/6/76               | 22.2                  | 171                   | 87                    | 64                    | 92                    | 54                    | \n\n\n",
            "text/plain": [
              "  Group   Name        Name.Viet             City   Region Crown.Year Year   \n",
              "1 Hoa Hau Bich Phuong Bi BÍch Ph__ng       Hanoi  North  1988       15/8/88\n",
              "2 Hoa Hau Dieu Hoa    Nguy_n Di_u Hoa       Hanoi  North  1990       15/8/90\n",
              "3 Hoa Hau Kieu Anh    H Ki_u Anh           Hanoi  North  1992       15/8/92\n",
              "4 Hoa Hau Thuy Thuy   Nguy_n Thu Th_y       Hanoi  North  1995       15/8/95\n",
              "5 Hoa Hau Thien Nga   Nguy_n Thin Nga      Saigon South  1996       15/8/96\n",
              "6 Hoa Hau Ngoc Khanh  Nguy_n Th_ Ng_c Khnh Saigon South  1998       15/8/98\n",
              "  DoB     Age  Height Bust Waist Hip Weight\n",
              "1 21/6/71 17.2 158    86   60    88  50    \n",
              "2 18/6/69 21.2 158    81   61    84  NA    \n",
              "3 7/7/76  16.1 169    85   62    87  NA    \n",
              "4 20/6/76 19.2 169    78   58    88  NA    \n",
              "5 25/6/75 21.2 170    87   64    92  NA    \n",
              "6 22/6/76 22.2 171    87   64    92  54    "
            ]
          },
          "metadata": {
            "tags": []
          }
        }
      ]
    },
    {
      "cell_type": "code",
      "metadata": {
        "id": "59Vmx04X6iy-",
        "colab_type": "code",
        "colab": {},
        "outputId": "1c54adbe-b347-4396-f58a-e5f45fd1f5a9"
      },
      "source": [
        "Desc(hh$City)"
      ],
      "execution_count": null,
      "outputs": [
        {
          "output_type": "display_data",
          "data": {
            "text/plain": [
              "------------------------------------------------------------------------------ \n",
              "hh$City (factor)\n",
              "\n",
              "  length      n    NAs unique levels  dupes\n",
              "      46     46      0     17     17      y\n",
              "         100.0%   0.0%                     \n",
              "\n",
              "         level  freq   perc  cumfreq  cumperc\n",
              "1        Hanoi    19  41.3%       19    41.3%\n",
              "2       Saigon     8  17.4%       27    58.7%\n",
              "3    Hai Phong     4   8.7%       31    67.4%\n",
              "4     Dong Nai     2   4.3%       33    71.7%\n",
              "5     Bac Lieu     1   2.2%       34    73.9%\n",
              "6      Ben Tre     1   2.2%       35    76.1%\n",
              "7      Can Tho     1   2.2%       36    78.3%\n",
              "8      Da Nang     1   2.2%       37    80.4%\n",
              "9    Hai Duong     1   2.2%       38    82.6%\n",
              "10  Kien Giang     1   2.2%       39    84.8%\n",
              "11    Lam Dong     1   2.2%       40    87.0%\n",
              "12    Nam Dinh     1   2.2%       41    89.1%\n",
              "... etc.\n",
              " [list output truncated]\n"
            ]
          },
          "metadata": {
            "tags": []
          }
        },
        {
          "output_type": "display_data",
          "data": {
            "image/png": "[encoded data removed]",
            "text/plain": [
              "Plot with title \"hh$City (factor)\""
            ]
          },
          "metadata": {
            "tags": [],
            "image/png": {
              "height": 420,
              "width": 420
            },
            "text/plain": {
              "height": 420,
              "width": 420
            }
          }
        }
      ]
    },
    {
      "cell_type": "code",
      "metadata": {
        "id": "SFugPtXP6izA",
        "colab_type": "code",
        "colab": {},
        "outputId": "bb54dc54-40db-4ec8-e646-b7fd9402e49e"
      },
      "source": [
        "Desc(hh$Height ~ hh$Region)"
      ],
      "execution_count": null,
      "outputs": [
        {
          "output_type": "display_data",
          "data": {
            "text/plain": [
              "------------------------------------------------------------------------------ \n",
              "hh$Height ~ hh$Region\n",
              "\n",
              "Summary: \n",
              "n pairs: 46, valid: 46 (100.0%), missings: 0 (0.0%), groups: 3\n",
              "\n",
              "                                 \n",
              "        Central    North    South\n",
              "mean    176.000  169.893  170.000\n",
              "median  176.000  170.500  170.000\n",
              "sd        2.828    5.301    2.129\n",
              "IQR       2.000    4.500    2.250\n",
              "n             2       28       16\n",
              "np       4.348%  60.870%  34.783%\n",
              "NAs           0        0        0\n",
              "0s            0        0        0\n",
              "\n",
              "Kruskal-Wallis rank sum test:\n",
              "  Kruskal-Wallis chi-squared = 4.2762, df = 2, p-value = 0.1179"
            ]
          },
          "metadata": {
            "tags": []
          }
        },
        {
          "output_type": "display_data",
          "data": {
            "image/png": "[encoded data removed]",
            "text/plain": [
              "Plot with title \"hh$Height ~ hh$Region\""
            ]
          },
          "metadata": {
            "tags": [],
            "image/png": {
              "height": 420,
              "width": 420
            },
            "text/plain": {
              "height": 420,
              "width": 420
            }
          }
        }
      ]
    },
    {
      "cell_type": "code",
      "metadata": {
        "id": "stKnaRRT6izC",
        "colab_type": "code",
        "colab": {}
      },
      "source": [
        ""
      ],
      "execution_count": null,
      "outputs": []
    }
  ]
}